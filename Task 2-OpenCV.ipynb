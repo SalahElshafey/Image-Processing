{
 "cells": [
  {
   "cell_type": "code",
   "execution_count": 1,
   "id": "ce7ba03b",
   "metadata": {},
   "outputs": [
    {
     "name": "stdout",
     "output_type": "stream",
     "text": [
      "Requirement already satisfied: opencv-python in d:\\digital hub\\artificial intelligence (ai)\\anaconda\\lib\\site-packages (4.8.0.76)\n",
      "Requirement already satisfied: numpy>=1.17.0 in d:\\digital hub\\artificial intelligence (ai)\\anaconda\\lib\\site-packages (from opencv-python) (1.23.5)\n"
     ]
    }
   ],
   "source": [
    "!pip install opencv-python\n"
   ]
  },
  {
   "cell_type": "code",
   "execution_count": 2,
   "id": "f7d46ff2",
   "metadata": {},
   "outputs": [],
   "source": [
    "import cv2\n",
    "import numpy as np"
   ]
  },
  {
   "cell_type": "markdown",
   "id": "9c8f4f1b",
   "metadata": {},
   "source": [
    "# Showing Original Image"
   ]
  },
  {
   "cell_type": "code",
   "execution_count": 3,
   "id": "19c57e16",
   "metadata": {},
   "outputs": [],
   "source": [
    "img=cv2.imread(\"D:\\\\SkyXperts\\\\1-OpenCv\\\\Untitled Folder\\\\Images\\\\Task 2-Blurred Image.jpg\")"
   ]
  },
  {
   "cell_type": "code",
   "execution_count": 4,
   "id": "3ac1a19f",
   "metadata": {},
   "outputs": [
    {
     "data": {
      "text/plain": [
       "-1"
      ]
     },
     "execution_count": 4,
     "metadata": {},
     "output_type": "execute_result"
    }
   ],
   "source": [
    "cv2.imshow(\"Original\",img)\n",
    "cv2.waitKey(0)"
   ]
  },
  {
   "cell_type": "markdown",
   "id": "5dea8e09",
   "metadata": {},
   "source": [
    "# Resizing Image"
   ]
  },
  {
   "cell_type": "raw",
   "id": "1112f414",
   "metadata": {},
   "source": [
    "1-Know the Current size of the image"
   ]
  },
  {
   "cell_type": "code",
   "execution_count": 5,
   "id": "6431f445",
   "metadata": {},
   "outputs": [
    {
     "name": "stdout",
     "output_type": "stream",
     "text": [
      "(667, 1000, 3)\n"
     ]
    }
   ],
   "source": [
    "print(img.shape)"
   ]
  },
  {
   "cell_type": "raw",
   "id": "453a07d6",
   "metadata": {},
   "source": [
    "2-Resizig the image"
   ]
  },
  {
   "cell_type": "code",
   "execution_count": 6,
   "id": "feffa6d4",
   "metadata": {},
   "outputs": [
    {
     "data": {
      "text/plain": [
       "-1"
      ]
     },
     "execution_count": 6,
     "metadata": {},
     "output_type": "execute_result"
    }
   ],
   "source": [
    "imgResize=cv2.resize(img,(300,200))\n",
    "cv2.imshow(\"resized image\",imgResize)\n",
    "cv2.waitKey(0)"
   ]
  },
  {
   "cell_type": "markdown",
   "id": "56dc8647",
   "metadata": {},
   "source": [
    "# Sharpening the Image"
   ]
  },
  {
   "cell_type": "code",
   "execution_count": 7,
   "id": "8afac670",
   "metadata": {},
   "outputs": [],
   "source": [
    "kernal=np.array([[-1,-1,-1],\n",
    "                [-1,9,-1],\n",
    "                [-1,-1,-1]])\n",
    "image2=cv2.filter2D(img,-1,kernal)"
   ]
  },
  {
   "cell_type": "code",
   "execution_count": 8,
   "id": "6c8eaad6",
   "metadata": {},
   "outputs": [
    {
     "data": {
      "text/plain": [
       "-1"
      ]
     },
     "execution_count": 8,
     "metadata": {},
     "output_type": "execute_result"
    }
   ],
   "source": [
    "cv2.imshow(\"filter\",image2)\n",
    "cv2.waitKey(0)"
   ]
  },
  {
   "cell_type": "code",
   "execution_count": 27,
   "id": "bd5bf480",
   "metadata": {},
   "outputs": [
    {
     "data": {
      "text/plain": [
       "-1"
      ]
     },
     "execution_count": 27,
     "metadata": {},
     "output_type": "execute_result"
    }
   ],
   "source": []
  },
  {
   "cell_type": "code",
   "execution_count": null,
   "id": "4d332e75",
   "metadata": {},
   "outputs": [],
   "source": []
  }
 ],
 "metadata": {
  "kernelspec": {
   "display_name": "Python 3 (ipykernel)",
   "language": "python",
   "name": "python3"
  },
  "language_info": {
   "codemirror_mode": {
    "name": "ipython",
    "version": 3
   },
   "file_extension": ".py",
   "mimetype": "text/x-python",
   "name": "python",
   "nbconvert_exporter": "python",
   "pygments_lexer": "ipython3",
   "version": "3.10.9"
  }
 },
 "nbformat": 4,
 "nbformat_minor": 5
}
